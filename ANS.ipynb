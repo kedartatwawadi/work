{
 "cells": [
  {
   "cell_type": "markdown",
   "metadata": {},
   "source": [
    "## ANS"
   ]
  },
  {
   "cell_type": "code",
   "execution_count": 21,
   "metadata": {
    "collapsed": true
   },
   "outputs": [],
   "source": [
    "%matplotlib inline\n",
    "import numpy as np\n",
    "import bitstring"
   ]
  },
  {
   "cell_type": "code",
   "execution_count": 22,
   "metadata": {
    "collapsed": false
   },
   "outputs": [],
   "source": [
    "Fs = [2,3,5];\n",
    "M = np.sum(Fs);"
   ]
  },
  {
   "cell_type": "code",
   "execution_count": 23,
   "metadata": {
    "collapsed": false
   },
   "outputs": [
    {
     "name": "stdout",
     "output_type": "stream",
     "text": [
      "[0, 2, 5]\n"
     ]
    }
   ],
   "source": [
    "Cs = list(np.cumsum(Fs));\n",
    "Cs.insert(0,0);\n",
    "Cs.pop();\n",
    "print Cs\n",
    "Cs = np.array(Cs);"
   ]
  },
  {
   "cell_type": "code",
   "execution_count": 35,
   "metadata": {
    "collapsed": true
   },
   "outputs": [],
   "source": [
    "def ANS_encoder(ip_buffer):\n",
    "    x = 0;\n",
    "    for s in ip_buffer:\n",
    "        s = int(s);\n",
    "        x = (x/Fs[s])*M+Cs[s]+(x%Fs[s]);\n",
    "        print s,x\n",
    "    return x;"
   ]
  },
  {
   "cell_type": "code",
   "execution_count": 36,
   "metadata": {
    "collapsed": false
   },
   "outputs": [
    {
     "name": "stdout",
     "output_type": "stream",
     "text": [
      "0 0\n",
      "1 2\n",
      "1 4\n",
      "2 9\n",
      "2 19\n",
      "2 39\n",
      "0 191\n",
      "1 634\n",
      "634\n"
     ]
    }
   ],
   "source": [
    "ip_string = '01122201'\n",
    "state = ANS_encoder(ip_string);\n",
    "print state;"
   ]
  },
  {
   "cell_type": "code",
   "execution_count": 37,
   "metadata": {
    "collapsed": false
   },
   "outputs": [],
   "source": [
    "def ANS_decoder(x):\n",
    "    symbols = [];\n",
    "    while( x > 0):\n",
    "        rem = x%M;\n",
    "        s = np.searchsorted(Cs,rem, side='right') - 1;\n",
    "        print s,x;\n",
    "        x = (x/M)*Fs[s] + rem - Cs[s];\n",
    "        symbols.append(str(s));\n",
    "    return symbols;"
   ]
  },
  {
   "cell_type": "code",
   "execution_count": 38,
   "metadata": {
    "collapsed": false
   },
   "outputs": [
    {
     "name": "stdout",
     "output_type": "stream",
     "text": [
      "1 634\n",
      "0 191\n",
      "2 39\n",
      "2 19\n",
      "2 9\n",
      "1 4\n",
      "1 2\n",
      "1022211\n"
     ]
    }
   ],
   "source": [
    "op_string = ANS_decoder(state)\n",
    "print ''.join(op_string);"
   ]
  },
  {
   "cell_type": "code",
   "execution_count": null,
   "metadata": {
    "collapsed": true
   },
   "outputs": [],
   "source": []
  }
 ],
 "metadata": {
  "kernelspec": {
   "display_name": "Python 2",
   "language": "python",
   "name": "python2"
  },
  "language_info": {
   "codemirror_mode": {
    "name": "ipython",
    "version": 2
   },
   "file_extension": ".py",
   "mimetype": "text/x-python",
   "name": "python",
   "nbconvert_exporter": "python",
   "pygments_lexer": "ipython2",
   "version": "2.7.12"
  }
 },
 "nbformat": 4,
 "nbformat_minor": 0
}
