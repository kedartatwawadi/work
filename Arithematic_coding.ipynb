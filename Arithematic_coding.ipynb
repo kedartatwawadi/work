{
 "cells": [
  {
   "cell_type": "markdown",
   "metadata": {},
   "source": [
    "## Arithematic Code\n",
    "Lets assume we can handle infinite precision arithematic, and also communicate using the same (thats actually cheating, considering a single infinite precision number carries infinite information)."
   ]
  },
  {
   "cell_type": "code",
   "execution_count": 13,
   "metadata": {
    "collapsed": true
   },
   "outputs": [],
   "source": [
    "%matplotlib inline\n",
    "import numpy as np\n",
    "import bitstring"
   ]
  },
  {
   "cell_type": "code",
   "execution_count": 14,
   "metadata": {
    "collapsed": false
   },
   "outputs": [],
   "source": [
    "# consider a small example\n",
    "p_vals = [0.3, 0.2, 0.5];\n",
    "\n",
    "# Check sum of probabilites is 1 \n",
    "assert np.sum(p_vals) == 1;"
   ]
  },
  {
   "cell_type": "code",
   "execution_count": 26,
   "metadata": {
    "collapsed": false
   },
   "outputs": [
    {
     "name": "stdout",
     "output_type": "stream",
     "text": [
      "[0, 0.29999999999999999, 0.5]\n"
     ]
    }
   ],
   "source": [
    "#Form the cumulative sum\n",
    "c_vals = list(np.cumsum(p_vals));\n",
    "c_vals.insert(0,0);\n",
    "c_vals.pop();\n",
    "print c_vals\n",
    "c_vals = np.array(c_vals);"
   ]
  },
  {
   "cell_type": "code",
   "execution_count": 16,
   "metadata": {
    "collapsed": true
   },
   "outputs": [],
   "source": [
    "def arith_encoder(ip_buffer):\n",
    "    length = 1;\n",
    "    left_range = 0;\n",
    "    \n",
    "    for s in ip_buffer:\n",
    "        s = int(s);\n",
    "        p = p_vals[s];\n",
    "        c = c_vals[s];\n",
    "        left_range = left_range + length*c;\n",
    "        length = length*p;\n",
    "    \n",
    "    val = left_range + length/2.0;\n",
    "    return val;"
   ]
  },
  {
   "cell_type": "code",
   "execution_count": 43,
   "metadata": {
    "collapsed": false
   },
   "outputs": [
    {
     "name": "stdout",
     "output_type": "stream",
     "text": [
      "0.1132275\n",
      "0111210222\n"
     ]
    }
   ],
   "source": [
    "# Example of encoding:\n",
    "ip_string = '0111210222';\n",
    "var = arith_encoder(ip_string);\n",
    "print var\n",
    "print ip_string"
   ]
  },
  {
   "cell_type": "code",
   "execution_count": 55,
   "metadata": {
    "collapsed": true
   },
   "outputs": [],
   "source": [
    "def arithematic_decoder(var,num_symbols):\n",
    "    symbols = [];\n",
    "    left_range = 0;\n",
    "    length = 1;\n",
    "    for it in xrange(num_symbols):\n",
    "        s_vals = c_vals*length + left_range;\n",
    "        s = np.searchsorted(s_vals,var) - 1;\n",
    "        symbols.append(str(s));\n",
    "        left_range = left_range + length*c_vals[s];\n",
    "        length = length*p_vals[s];\n",
    "    return symbols;"
   ]
  },
  {
   "cell_type": "code",
   "execution_count": 57,
   "metadata": {
    "collapsed": false
   },
   "outputs": [
    {
     "name": "stdout",
     "output_type": "stream",
     "text": [
      "0111210222\n"
     ]
    }
   ],
   "source": [
    "op_string = ''.join(arithematic_decoder(var,10));\n",
    "print op_string"
   ]
  },
  {
   "cell_type": "code",
   "execution_count": 58,
   "metadata": {
    "collapsed": false
   },
   "outputs": [],
   "source": [
    "assert(op_string == ip_string)"
   ]
  },
  {
   "cell_type": "markdown",
   "metadata": {},
   "source": [
    "## Understanding the Arithematic coder:\n",
    "In a sense, arithematic coding is remapping real numbers in the interval [0,1] in the standard decimal system onto real numbers in the \"asymmetric\" system defined by the given probability distribution.\n"
   ]
  },
  {
   "cell_type": "code",
   "execution_count": null,
   "metadata": {
    "collapsed": true
   },
   "outputs": [],
   "source": []
  }
 ],
 "metadata": {
  "kernelspec": {
   "display_name": "Python 2",
   "language": "python",
   "name": "python2"
  },
  "language_info": {
   "codemirror_mode": {
    "name": "ipython",
    "version": 2
   },
   "file_extension": ".py",
   "mimetype": "text/x-python",
   "name": "python",
   "nbconvert_exporter": "python",
   "pygments_lexer": "ipython2",
   "version": "2.7.12"
  }
 },
 "nbformat": 4,
 "nbformat_minor": 0
}
